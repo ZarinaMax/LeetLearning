{
 "cells": [
  {
   "cell_type": "code",
   "execution_count": 1,
   "metadata": {},
   "outputs": [],
   "source": [
    "import json\n",
    "import numpy as np\n",
    "import os"
   ]
  },
  {
   "cell_type": "code",
   "execution_count": 2,
   "metadata": {},
   "outputs": [],
   "source": [
    "task_id = 1\n",
    "if not os.path.exists(f\"task_{task_id}\"):\n",
    "     os.makedirs(f\"task_{task_id}\") \n",
    "np.random.seed(42)\n",
    "for test_num in range(100):\n",
    "    test = dict()\n",
    "    test['test_num'] = test_num\n",
    "    test['input'] = list(np.random.rand(np.random.randint(10)))\n",
    "    test['output'] = list(np.array(test['input']) + 1) #list(np.random.rand(np.random.randint(10)))\n",
    "    with open(f'task_{task_id}/test_{test_num}.json', 'w') as f:\n",
    "        json.dump(test, f, indent=4)"
   ]
  },
  {
   "cell_type": "code",
   "execution_count": 4,
   "metadata": {},
   "outputs": [],
   "source": [
    "with open(f'task_{task_id}/test_{test_num}.json') as f:\n",
    "    test = json.load(f)"
   ]
  },
  {
   "cell_type": "code",
   "execution_count": 5,
   "metadata": {},
   "outputs": [
    {
     "data": {
      "text/plain": [
       "{'test_num': 99,\n",
       " 'input': [0.9504114840765587,\n",
       "  0.8902637838909163,\n",
       "  0.45565675278571294,\n",
       "  0.6201325978015367,\n",
       "  0.2773811829811327,\n",
       "  0.1881211597237613,\n",
       "  0.46369840493998216,\n",
       "  0.3533522280260528,\n",
       "  0.5836561118508721],\n",
       " 'output': [1.9504114840765587,\n",
       "  1.8902637838909162,\n",
       "  1.455656752785713,\n",
       "  1.6201325978015366,\n",
       "  1.2773811829811326,\n",
       "  1.1881211597237613,\n",
       "  1.4636984049399822,\n",
       "  1.3533522280260528,\n",
       "  1.583656111850872]}"
      ]
     },
     "execution_count": 5,
     "metadata": {},
     "output_type": "execute_result"
    }
   ],
   "source": [
    "test"
   ]
  },
  {
   "cell_type": "code",
   "execution_count": null,
   "metadata": {},
   "outputs": [],
   "source": []
  }
 ],
 "metadata": {
  "kernelspec": {
   "display_name": "Python 3",
   "language": "python",
   "name": "python3"
  },
  "language_info": {
   "codemirror_mode": {
    "name": "ipython",
    "version": 3
   },
   "file_extension": ".py",
   "mimetype": "text/x-python",
   "name": "python",
   "nbconvert_exporter": "python",
   "pygments_lexer": "ipython3",
   "version": "3.10.12"
  }
 },
 "nbformat": 4,
 "nbformat_minor": 2
}
